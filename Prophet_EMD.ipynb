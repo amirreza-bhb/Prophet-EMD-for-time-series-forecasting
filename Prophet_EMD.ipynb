{
 "cells": [
  {
   "cell_type": "markdown",
   "id": "e94e23e3-4cd0-49ae-996a-73ecdbb6b22d",
   "metadata": {},
   "source": [
    "# Prophet-EMD Hybrid Time Series Forecasting\n",
    "\n",
    "In this notebook, we build a **hybrid forecasting model** by combining:\n",
    "\n",
    "- **Empirical Mode Decomposition (EMD)** to break down the series into simpler components (IMFs),\n",
    "- **Prophet** forecasting models for each component,\n",
    "- and **aggregating** the results to make a final prediction.\n",
    "\n",
    "We also evaluate the model performance using:\n",
    "\n",
    "- Mean Absolute Percentage Error (MAPE),\n",
    "- Root Mean Squared Error (RMSE)\n",
    "\n",
    "---\n",
    "\n",
    "> **Goal**: Enhance forecasting accuracy by modeling each intrinsic pattern separately.\n"
   ]
  },
  {
   "cell_type": "markdown",
   "id": "567e37f8-342e-430e-8f2b-9ebadc299286",
   "metadata": {},
   "source": [
    "## Import libraries"
   ]
  },
  {
   "cell_type": "code",
   "execution_count": null,
   "id": "6dc49c27-6c87-4140-a489-11dac04bc4bc",
   "metadata": {},
   "outputs": [],
   "source": [
    "import pandas as pd\n",
    "import numpy as np\n",
    "import matplotlib.pyplot as plt\n",
    "from sklearn.metrics import mean_absolute_percentage_error , mean_squared_error\n",
    "from PyEMD import EMD\n",
    "from PyEMD import CEEMDAN\n",
    "from prophet import Prophet\n",
    "\n",
    "import nolds\n",
    "from statsmodels.tsa.seasonal import STL\n",
    "from statsmodels.tsa.seasonal import DecomposeResult\n",
    "\n",
    "import pandas as pd\n",
    "from rpy2.robjects import pandas2ri\n",
    "import rpy2.robjects as ro"
   ]
  },
  {
   "cell_type": "markdown",
   "id": "a4397b05-0fd7-45f4-af22-a3b85bb5cbe2",
   "metadata": {},
   "source": [
    "## Read Data"
   ]
  },
  {
   "cell_type": "code",
   "execution_count": null,
   "id": "323119fd-6bb5-4628-89b0-035e666d97cc",
   "metadata": {},
   "outputs": [],
   "source": [
    "path = #path/to/dataset\n",
    "df = pd.read_csv(path)\n",
    "df.head()\n",
    "\n",
    "test_size = 12\n",
    "train_set = df[:len(df)-test_size]\n",
    "test_set = df[len(df)-test_size:]\n",
    "\n",
    "ds = df.ds"
   ]
  },
  {
   "cell_type": "markdown",
   "id": "bbdea930-2cfe-43c2-97e3-b8c289887af2",
   "metadata": {},
   "source": [
    "## Feature Extraction\n",
    "\n",
    "We extract key time series characteristics using Python and R, including:\n",
    "- Chaos level (Lyapunov exponent)\n",
    "- Seasonal and trend strength (via STL)\n",
    "- Statistical features (via R’s `tsfeatures`)"
   ]
  },
  {
   "cell_type": "code",
   "execution_count": null,
   "id": "67042581",
   "metadata": {},
   "outputs": [],
   "source": [
    "# Chaos Analysis: Lyapunov Exponent and STL Decomposition ---\n",
    "# Calculate Lyapunov exponent to detect chaos (positive value → chaotic system)\n",
    "h = nolds.lyap_r(df.y.values[:-test_size])\n",
    "print(\"lyap\", h)\n",
    "\n",
    "# Perform STL decomposition (monthly frequency assumed)\n",
    "res = STL(df.y, period=12).fit()\n",
    "print(res.seasonal)\n",
    "res.plot()\n",
    "plt.show()"
   ]
  },
  {
   "cell_type": "code",
   "execution_count": null,
   "id": "931f7222-855d-435a-9c62-77141a6e4542",
   "metadata": {},
   "outputs": [],
   "source": [
    "# Setup for Seasonal Strength Feature Extraction using R\n",
    "# Install required R packages via R magic in Jupyter to enable time series feature extraction.\n",
    "# Packages include:\n",
    "# - tsfeatures: for computing time series features such as seasonal strength.\n",
    "# - forecast: supports time series decomposition and forecasting.\n",
    "# - dplyr and tidyr: for data manipulation within the R environment.\n",
    "%load_ext rpy2.ipython\n",
    "\n",
    "%%R\n",
    "install.packages(\"tsfeatures\", repos='http://cran.r-project.org')\n",
    "install.packages(\"forecast\", repos='http://cran.r-project.org')\n",
    "install.packages(\"dplyr\", repos='http://cran.r-project.org')\n",
    "install.packages(\"tidyr\", repos='http://cran.r-project.org')\n"
   ]
  },
  {
   "cell_type": "code",
   "execution_count": null,
   "id": "1f65227e-0933-4541-bdc6-00fcf2c758d3",
   "metadata": {},
   "outputs": [],
   "source": [
    "# Data Preparation for R-based Feature Extraction ---\n",
    "# Extract the 'y' column, and convert it to an R time series object with monthly frequency.\n",
    "\n",
    "# Enable automatic conversion between Pandas and R data frames\n",
    "pandas2ri.activate()\n",
    "\n",
    "# Extract the target time series column ('y') from training data\n",
    "x = df['y'].iloc[:-test_size].values\n",
    "\n",
    "# Transfer the time series to R environment\n",
    "ro.globalenv['x'] = ro.FloatVector(x)\n",
    "\n",
    "# Convert to R time series object with monthly frequency\n",
    "ro.r('x <- ts(x, start = c(1998, 1), frequency = 12)')\n"
   ]
  },
  {
   "cell_type": "markdown",
   "id": "633695c3-2005-4d8e-88af-b7c43614538f",
   "metadata": {},
   "source": [
    "## prophet-EMD"
   ]
  },
  {
   "cell_type": "code",
   "execution_count": null,
   "id": "5c0ee6cc-39eb-4084-840d-cfc9ac3cc999",
   "metadata": {},
   "outputs": [],
   "source": [
    "## decomposition \n",
    "emd = EMD()\n",
    "imfs = emd.emd(np.array(list(train_set.y.values)))\n",
    "print(imfs.shape)\n",
    "\n",
    "forecast_df = pd.DataFrame()\n",
    "forecast_df['ds'] = ds\n",
    "forecast_df['yhat'] = 0\n",
    "\n",
    "## training\n",
    "for imf in imfs:\n",
    "  temp = pd.DataFrame(imf)\n",
    "  temp['ds'] = ds\n",
    "  temp.columns = ['y', 'ds']\n",
    "  model = Prophet()\n",
    "  model.fit(temp)\n",
    "  future = model.make_future_dataframe(test_size, freq=\"MS\")\n",
    "  forecast = model.predict(future)\n",
    "  forecast_df[\"yhat\"] += forecast['yhat']\n",
    "\n",
    "## evaluation \n",
    "mape = mean_absolute_percentage_error(test_set, forecast_df.yhat[-test_size:])\n",
    "rmse = np.sqrt(mean_squared_error(test_set, forecast_df.yhat[-test_size:]))\n",
    "\n",
    "print(f\" EMD-Prophet mape : {mape}\")\n",
    "print(f\" EMD-Prophet rmse : {rmse}\")\n",
    "\n",
    "## Plotting\n",
    "\n"
   ]
  },
  {
   "cell_type": "markdown",
   "id": "4ebd7eae-f597-4739-9bf7-079d6ae172ab",
   "metadata": {},
   "source": [
    "\n",
    "## Prophet-CEEMDAN"
   ]
  },
  {
   "cell_type": "code",
   "execution_count": null,
   "id": "7032417b-c22f-4547-84e5-ed92ac2b63aa",
   "metadata": {},
   "outputs": [],
   "source": [
    "## decomposition\n",
    "ceemd = CEEMDAN()\n",
    "ceemd_imfs = ceemd.ceemdan(np.array(list(train_set.y.values)))\n",
    "print(f\"ceemdan imfs shape : {ceemd_imfs.shape}\")\n",
    "\n",
    "## training\n",
    "forecast_ceemdan_df = pd.DataFrame()\n",
    "forecast_ceemdan_df['ds'] = ds\n",
    "forecast_ceemdan_df['yhat'] = 0\n",
    "\n",
    "for imf in ceemd_imfs:\n",
    "  temp = pd.DataFrame(imf)\n",
    "  temp['ds'] = ds\n",
    "  temp.columns = [ 'y', 'ds']\n",
    "  model = Prophet(seasonality_mode=\"multiplicative\")\n",
    "  model.fit(temp)\n",
    "  future = model.make_future_dataframe(test_size, freq=\"MS\")\n",
    "  forecast = model.predict(future)\n",
    "  forecast_ceemdan_df[\"yhat\"] += forecast['yhat']\n",
    "    \n",
    "## evaluation\n",
    "ceemdan_mape = mean_absolute_percentage_error(test_set, forecast_ceemdan_df.yhat[-test_size:])\n",
    "ceemdan_rmse = np.sqrt(mean_squared_error(test_set, forecast_ceemdan_df.yhat[-test_size:]))\n",
    "\n",
    "print(f\" CEEMDAN-Prophet mape : {ceemdan_mape}\")\n",
    "print(f\" CEEMDAN-Prophet rmse : {ceemdan_rmse}\")\n",
    "\n",
    "## Plotting"
   ]
  }
 ],
 "metadata": {
  "kernelspec": {
   "display_name": "Python 3 (ipykernel)",
   "language": "python",
   "name": "python3"
  },
  "language_info": {
   "codemirror_mode": {
    "name": "ipython",
    "version": 3
   },
   "file_extension": ".py",
   "mimetype": "text/x-python",
   "name": "python",
   "nbconvert_exporter": "python",
   "pygments_lexer": "ipython3",
   "version": "3.11.5"
  }
 },
 "nbformat": 4,
 "nbformat_minor": 5
}
